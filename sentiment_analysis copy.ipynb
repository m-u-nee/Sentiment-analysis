{
 "cells": [
  {
   "cell_type": "code",
   "execution_count": 23,
   "metadata": {},
   "outputs": [
    {
     "name": "stdout",
     "output_type": "stream",
     "text": [
      "mps\n"
     ]
    }
   ],
   "source": [
    "# Imports\n",
    "import os\n",
    "import numpy as np\n",
    "import pandas as pd\n",
    "import torch.nn.functional as F\n",
    "import torch\n",
    "device = torch.device('mps')\n",
    "print(device)\n"
   ]
  },
  {
   "cell_type": "code",
   "execution_count": 24,
   "metadata": {},
   "outputs": [],
   "source": [
    "# load the dataset\n",
    "data = pd.read_csv('dataset/Reviews.csv')\n"
   ]
  },
  {
   "cell_type": "code",
   "execution_count": 25,
   "metadata": {},
   "outputs": [
    {
     "name": "stdout",
     "output_type": "stream",
     "text": [
      "(568454, 10)\n"
     ]
    },
    {
     "data": {
      "text/html": [
       "<div>\n",
       "<style scoped>\n",
       "    .dataframe tbody tr th:only-of-type {\n",
       "        vertical-align: middle;\n",
       "    }\n",
       "\n",
       "    .dataframe tbody tr th {\n",
       "        vertical-align: top;\n",
       "    }\n",
       "\n",
       "    .dataframe thead th {\n",
       "        text-align: right;\n",
       "    }\n",
       "</style>\n",
       "<table border=\"1\" class=\"dataframe\">\n",
       "  <thead>\n",
       "    <tr style=\"text-align: right;\">\n",
       "      <th></th>\n",
       "      <th>Id</th>\n",
       "      <th>ProductId</th>\n",
       "      <th>UserId</th>\n",
       "      <th>ProfileName</th>\n",
       "      <th>HelpfulnessNumerator</th>\n",
       "      <th>HelpfulnessDenominator</th>\n",
       "      <th>Score</th>\n",
       "      <th>Time</th>\n",
       "      <th>Summary</th>\n",
       "      <th>Text</th>\n",
       "    </tr>\n",
       "  </thead>\n",
       "  <tbody>\n",
       "    <tr>\n",
       "      <th>0</th>\n",
       "      <td>1</td>\n",
       "      <td>B001E4KFG0</td>\n",
       "      <td>A3SGXH7AUHU8GW</td>\n",
       "      <td>delmartian</td>\n",
       "      <td>1</td>\n",
       "      <td>1</td>\n",
       "      <td>5</td>\n",
       "      <td>1303862400</td>\n",
       "      <td>Good Quality Dog Food</td>\n",
       "      <td>I have bought several of the Vitality canned d...</td>\n",
       "    </tr>\n",
       "    <tr>\n",
       "      <th>1</th>\n",
       "      <td>2</td>\n",
       "      <td>B00813GRG4</td>\n",
       "      <td>A1D87F6ZCVE5NK</td>\n",
       "      <td>dll pa</td>\n",
       "      <td>0</td>\n",
       "      <td>0</td>\n",
       "      <td>1</td>\n",
       "      <td>1346976000</td>\n",
       "      <td>Not as Advertised</td>\n",
       "      <td>Product arrived labeled as Jumbo Salted Peanut...</td>\n",
       "    </tr>\n",
       "    <tr>\n",
       "      <th>2</th>\n",
       "      <td>3</td>\n",
       "      <td>B000LQOCH0</td>\n",
       "      <td>ABXLMWJIXXAIN</td>\n",
       "      <td>Natalia Corres \"Natalia Corres\"</td>\n",
       "      <td>1</td>\n",
       "      <td>1</td>\n",
       "      <td>4</td>\n",
       "      <td>1219017600</td>\n",
       "      <td>\"Delight\" says it all</td>\n",
       "      <td>This is a confection that has been around a fe...</td>\n",
       "    </tr>\n",
       "    <tr>\n",
       "      <th>3</th>\n",
       "      <td>4</td>\n",
       "      <td>B000UA0QIQ</td>\n",
       "      <td>A395BORC6FGVXV</td>\n",
       "      <td>Karl</td>\n",
       "      <td>3</td>\n",
       "      <td>3</td>\n",
       "      <td>2</td>\n",
       "      <td>1307923200</td>\n",
       "      <td>Cough Medicine</td>\n",
       "      <td>If you are looking for the secret ingredient i...</td>\n",
       "    </tr>\n",
       "    <tr>\n",
       "      <th>4</th>\n",
       "      <td>5</td>\n",
       "      <td>B006K2ZZ7K</td>\n",
       "      <td>A1UQRSCLF8GW1T</td>\n",
       "      <td>Michael D. Bigham \"M. Wassir\"</td>\n",
       "      <td>0</td>\n",
       "      <td>0</td>\n",
       "      <td>5</td>\n",
       "      <td>1350777600</td>\n",
       "      <td>Great taffy</td>\n",
       "      <td>Great taffy at a great price.  There was a wid...</td>\n",
       "    </tr>\n",
       "  </tbody>\n",
       "</table>\n",
       "</div>"
      ],
      "text/plain": [
       "   Id   ProductId          UserId                      ProfileName  \\\n",
       "0   1  B001E4KFG0  A3SGXH7AUHU8GW                       delmartian   \n",
       "1   2  B00813GRG4  A1D87F6ZCVE5NK                           dll pa   \n",
       "2   3  B000LQOCH0   ABXLMWJIXXAIN  Natalia Corres \"Natalia Corres\"   \n",
       "3   4  B000UA0QIQ  A395BORC6FGVXV                             Karl   \n",
       "4   5  B006K2ZZ7K  A1UQRSCLF8GW1T    Michael D. Bigham \"M. Wassir\"   \n",
       "\n",
       "   HelpfulnessNumerator  HelpfulnessDenominator  Score        Time  \\\n",
       "0                     1                       1      5  1303862400   \n",
       "1                     0                       0      1  1346976000   \n",
       "2                     1                       1      4  1219017600   \n",
       "3                     3                       3      2  1307923200   \n",
       "4                     0                       0      5  1350777600   \n",
       "\n",
       "                 Summary                                               Text  \n",
       "0  Good Quality Dog Food  I have bought several of the Vitality canned d...  \n",
       "1      Not as Advertised  Product arrived labeled as Jumbo Salted Peanut...  \n",
       "2  \"Delight\" says it all  This is a confection that has been around a fe...  \n",
       "3         Cough Medicine  If you are looking for the secret ingredient i...  \n",
       "4            Great taffy  Great taffy at a great price.  There was a wid...  "
      ]
     },
     "execution_count": 25,
     "metadata": {},
     "output_type": "execute_result"
    }
   ],
   "source": [
    "# Initial data exploration\n",
    "print(data.shape)\n",
    "data.head()\n"
   ]
  },
  {
   "cell_type": "code",
   "execution_count": 26,
   "metadata": {},
   "outputs": [
    {
     "data": {
      "text/html": [
       "<div>\n",
       "<style scoped>\n",
       "    .dataframe tbody tr th:only-of-type {\n",
       "        vertical-align: middle;\n",
       "    }\n",
       "\n",
       "    .dataframe tbody tr th {\n",
       "        vertical-align: top;\n",
       "    }\n",
       "\n",
       "    .dataframe thead th {\n",
       "        text-align: right;\n",
       "    }\n",
       "</style>\n",
       "<table border=\"1\" class=\"dataframe\">\n",
       "  <thead>\n",
       "    <tr style=\"text-align: right;\">\n",
       "      <th></th>\n",
       "      <th>Score</th>\n",
       "      <th>Summary</th>\n",
       "      <th>Text</th>\n",
       "    </tr>\n",
       "  </thead>\n",
       "  <tbody>\n",
       "    <tr>\n",
       "      <th>0</th>\n",
       "      <td>5</td>\n",
       "      <td>Good Quality Dog Food</td>\n",
       "      <td>I have bought several of the Vitality canned d...</td>\n",
       "    </tr>\n",
       "    <tr>\n",
       "      <th>1</th>\n",
       "      <td>1</td>\n",
       "      <td>Not as Advertised</td>\n",
       "      <td>Product arrived labeled as Jumbo Salted Peanut...</td>\n",
       "    </tr>\n",
       "    <tr>\n",
       "      <th>2</th>\n",
       "      <td>4</td>\n",
       "      <td>\"Delight\" says it all</td>\n",
       "      <td>This is a confection that has been around a fe...</td>\n",
       "    </tr>\n",
       "    <tr>\n",
       "      <th>3</th>\n",
       "      <td>2</td>\n",
       "      <td>Cough Medicine</td>\n",
       "      <td>If you are looking for the secret ingredient i...</td>\n",
       "    </tr>\n",
       "    <tr>\n",
       "      <th>4</th>\n",
       "      <td>5</td>\n",
       "      <td>Great taffy</td>\n",
       "      <td>Great taffy at a great price.  There was a wid...</td>\n",
       "    </tr>\n",
       "  </tbody>\n",
       "</table>\n",
       "</div>"
      ],
      "text/plain": [
       "   Score                Summary  \\\n",
       "0      5  Good Quality Dog Food   \n",
       "1      1      Not as Advertised   \n",
       "2      4  \"Delight\" says it all   \n",
       "3      2         Cough Medicine   \n",
       "4      5            Great taffy   \n",
       "\n",
       "                                                Text  \n",
       "0  I have bought several of the Vitality canned d...  \n",
       "1  Product arrived labeled as Jumbo Salted Peanut...  \n",
       "2  This is a confection that has been around a fe...  \n",
       "3  If you are looking for the secret ingredient i...  \n",
       "4  Great taffy at a great price.  There was a wid...  "
      ]
     },
     "execution_count": 26,
     "metadata": {},
     "output_type": "execute_result"
    }
   ],
   "source": [
    "# Remove all columns except score, smmmary and text\n",
    "\n",
    "data = data[['Score', 'Summary', 'Text']]\n",
    "data.head()"
   ]
  },
  {
   "cell_type": "code",
   "execution_count": 27,
   "metadata": {},
   "outputs": [
    {
     "data": {
      "text/html": [
       "<div>\n",
       "<style scoped>\n",
       "    .dataframe tbody tr th:only-of-type {\n",
       "        vertical-align: middle;\n",
       "    }\n",
       "\n",
       "    .dataframe tbody tr th {\n",
       "        vertical-align: top;\n",
       "    }\n",
       "\n",
       "    .dataframe thead th {\n",
       "        text-align: right;\n",
       "    }\n",
       "</style>\n",
       "<table border=\"1\" class=\"dataframe\">\n",
       "  <thead>\n",
       "    <tr style=\"text-align: right;\">\n",
       "      <th></th>\n",
       "      <th>Score</th>\n",
       "      <th>Text</th>\n",
       "    </tr>\n",
       "  </thead>\n",
       "  <tbody>\n",
       "    <tr>\n",
       "      <th>0</th>\n",
       "      <td>5</td>\n",
       "      <td>Good Quality Dog Food: I have bought several o...</td>\n",
       "    </tr>\n",
       "    <tr>\n",
       "      <th>1</th>\n",
       "      <td>1</td>\n",
       "      <td>Not as Advertised: Product arrived labeled as ...</td>\n",
       "    </tr>\n",
       "    <tr>\n",
       "      <th>2</th>\n",
       "      <td>4</td>\n",
       "      <td>\"Delight\" says it all: This is a confection th...</td>\n",
       "    </tr>\n",
       "    <tr>\n",
       "      <th>3</th>\n",
       "      <td>2</td>\n",
       "      <td>Cough Medicine: If you are looking for the sec...</td>\n",
       "    </tr>\n",
       "    <tr>\n",
       "      <th>4</th>\n",
       "      <td>5</td>\n",
       "      <td>Great taffy: Great taffy at a great price.  Th...</td>\n",
       "    </tr>\n",
       "  </tbody>\n",
       "</table>\n",
       "</div>"
      ],
      "text/plain": [
       "   Score                                               Text\n",
       "0      5  Good Quality Dog Food: I have bought several o...\n",
       "1      1  Not as Advertised: Product arrived labeled as ...\n",
       "2      4  \"Delight\" says it all: This is a confection th...\n",
       "3      2  Cough Medicine: If you are looking for the sec...\n",
       "4      5  Great taffy: Great taffy at a great price.  Th..."
      ]
     },
     "execution_count": 27,
     "metadata": {},
     "output_type": "execute_result"
    }
   ],
   "source": [
    "# Modify the text by formatting it summary: text, and remove summary column\n",
    "data['Text'] = data['Summary'] + ': ' + data['Text']\n",
    "data = data.drop(columns=['Summary'])\n",
    "data.head()"
   ]
  },
  {
   "cell_type": "code",
   "execution_count": 28,
   "metadata": {},
   "outputs": [
    {
     "data": {
      "text/plain": [
       "<Axes: xlabel='Score'>"
      ]
     },
     "execution_count": 28,
     "metadata": {},
     "output_type": "execute_result"
    },
    {
     "data": {
      "image/png": "[encoded data removed]",
      "text/plain": [
       "<Figure size 640x480 with 1 Axes>"
      ]
     },
     "metadata": {},
     "output_type": "display_data"
    }
   ],
   "source": [
    "# Bar graoh of the score distribution\n",
    "\n",
    "data['Score'].value_counts().plot(kind='bar')\n",
    "\n",
    "# 5 is drastically overrepresented"
   ]
  },
  {
   "cell_type": "code",
   "execution_count": 29,
   "metadata": {},
   "outputs": [
    {
     "data": {
      "text/plain": [
       "<Axes: xlabel='Score'>"
      ]
     },
     "execution_count": 29,
     "metadata": {},
     "output_type": "execute_result"
    },
    {
     "data": {
      "image/png": "[encoded data removed]",
      "text/plain": [
       "<Figure size 640x480 with 1 Axes>"
      ]
     },
     "metadata": {},
     "output_type": "display_data"
    }
   ],
   "source": [
    "# We map 5 and 4 to 1, 1,2,3 to 0\n",
    "data['Score'] = data['Score'].apply(lambda x: 1 if x > 3 else 0)\n",
    "data['Score'].value_counts().plot(kind='bar')\n"
   ]
  },
  {
   "cell_type": "code",
   "execution_count": 30,
   "metadata": {},
   "outputs": [
    {
     "name": "stdout",
     "output_type": "stream",
     "text": [
      "3451\n"
     ]
    }
   ],
   "source": [
    "# print max length of text\n",
    "# First convert all text to string\n",
    "data['Text'] = data['Text'].astype(str)\n",
    "print(data['Text'].apply(lambda x: len(x.split())).max())"
   ]
  },
  {
   "cell_type": "code",
   "execution_count": 31,
   "metadata": {},
   "outputs": [
    {
     "name": "stdout",
     "output_type": "stream",
     "text": [
      "Score    0\n",
      "Text     0\n",
      "dtype: int64\n"
     ]
    }
   ],
   "source": [
    "# look for missing values\n",
    "print(data.isnull().sum()) # none found\n"
   ]
  },
  {
   "cell_type": "code",
   "execution_count": 32,
   "metadata": {},
   "outputs": [],
   "source": [
    "from transformers import BertModel\n",
    "import torch\n",
    "model = BertModel.from_pretrained(\"bert-base-uncased\", torch_dtype=torch.float16, attn_implementation=\"sdpa\").to(device)"
   ]
  },
  {
   "cell_type": "code",
   "execution_count": 33,
   "metadata": {},
   "outputs": [
    {
     "name": "stdout",
     "output_type": "stream",
     "text": [
      "Example tweet:  Good Quality Dog Food: I have bought several of the Vitality canned dog food products and have found them all to be of good quality. The product looks more like a stew than a processed meat and it smells better. My Labrador is finicky and she appreciates this product better than  most.\n",
      "Output dimensions:  torch.float16\n",
      "CLS token output:  torch.Size([768])\n"
     ]
    }
   ],
   "source": [
    "# We import the tokenizer, tokenize a single example and run it through the model to see the output dimensions\n",
    "from transformers import BertTokenizer\n",
    "tokenizer = BertTokenizer.from_pretrained('bert-base-uncased')\n",
    "example = data.Text.iloc[0]\n",
    "print('Example tweet: ', example)\n",
    "encoded_input = tokenizer(example, return_tensors='pt').to(device)\n",
    "with torch.no_grad():\n",
    "    output = model(**encoded_input)\n",
    "print('Output dimensions: ', output.last_hidden_state.dtype)\n",
    "print('CLS token output: ', output.last_hidden_state[0,0,:].shape)\n"
   ]
  },
  {
   "cell_type": "code",
   "execution_count": 34,
   "metadata": {},
   "outputs": [],
   "source": [
    "import torch\n",
    "import os\n",
    "import time\n",
    "import datetime\n",
    "\n",
    "def encoder(text):\n",
    "    encoded_input = tokenizer(text, return_tensors='pt', padding=True, truncation=True, max_length=512).to(device)\n",
    "    with torch.no_grad():\n",
    "        output = model(**encoded_input)\n",
    "    return output.last_hidden_state[:,0,:].squeeze(0)\n",
    "\n",
    "def create_sharded_dataset(data, n_shards, output_dir, encoder, val=False, start_shard=0):\n",
    "    os.makedirs(output_dir, exist_ok=True)\n",
    "    shard_size = len(data) // n_shards\n",
    "    shard_size += 1 if len(data) % n_shards != 0 else 0\n",
    "    \n",
    "    total_time = 0\n",
    "    for shard_idx in range(start_shard, n_shards):\n",
    "        start_time = time.time()\n",
    "        time.sleep(30)\n",
    "\n",
    "        start_idx = shard_idx * shard_size\n",
    "        end_idx = min(start_idx + shard_size, len(data))\n",
    "        shard_data = data.iloc[start_idx:end_idx]\n",
    "\n",
    "        X = []\n",
    "        y = []\n",
    "        for index, row in shard_data.iterrows():\n",
    "            text = row.Text\n",
    "            score = row.Score\n",
    "            numeric_label = torch.tensor(score, dtype=torch.long).to(device)\n",
    "            X.append(encoder(text).float())\n",
    "            y.append(numeric_label)\n",
    "        \n",
    "        X = torch.stack(X)\n",
    "        y = torch.stack(y)\n",
    "        if val:\n",
    "            torch.save((X, y), os.path.join(output_dir, f'val_shard_{shard_idx}.pt'))\n",
    "        else:\n",
    "            torch.save((X, y), os.path.join(output_dir, f'shard_{shard_idx}.pt'))\n",
    "        \n",
    "        shard_time = time.time() - start_time\n",
    "        total_time += shard_time\n",
    "        completed_shards = shard_idx - start_shard + 1\n",
    "        estimated_total_time = total_time / completed_shards * (n_shards - start_shard)\n",
    "        remaining_time = estimated_total_time - total_time\n",
    "        \n",
    "        # Convert shard_time and remaining_time to hh:mm:ss format\n",
    "        shard_time_formatted = str(datetime.timedelta(seconds=int(shard_time)))\n",
    "        remaining_time_formatted = str(datetime.timedelta(seconds=int(remaining_time)))\n",
    "\n",
    "        # Combined print statement\n",
    "        print(f\"Shard {shard_idx} saved with {end_idx - start_idx} samples | Time taken for shard {shard_idx}: {shard_time_formatted} | Estimated time remaining: {remaining_time_formatted}\")\n",
    "\n",
    "# We take the last 1000 samples as validation data, and the rest as training data\n",
    "# create_sharded_dataset(data[:-1000], 500, 'train_shards', encoder, start_shard=293)\n",
    "# create_sharded_dataset(data.head(50), 50, 'train_shards', encoder)\n",
    "\n",
    "# create_sharded_dataset(data[-1000:], 1, 'val_shards', encoder, val=True)\n"
   ]
  },
  {
   "cell_type": "code",
   "execution_count": 44,
   "metadata": {},
   "outputs": [
    {
     "name": "stdout",
     "output_type": "stream",
     "text": [
      "Total batches in training set:  4434\n",
      "Total batches in validation set:  8\n"
     ]
    }
   ],
   "source": [
    "import torch\n",
    "import os\n",
    "\n",
    "class DataLoader:\n",
    "    def __init__(self, shard_dir, batch_size, device):\n",
    "        self.shard_dir = shard_dir\n",
    "        self.batch_size = batch_size\n",
    "        self.device = device\n",
    "        self.shard_files = sorted([os.path.join(shard_dir, f) for f in os.listdir(shard_dir) if f.endswith('.pt')])\n",
    "        self.current_shard_idx = 0\n",
    "        self.load_shard(self.current_shard_idx)\n",
    "        \n",
    "        # Calculate the total number of samples across all shards\n",
    "        self.total_samples = 0\n",
    "        for shard_file in self.shard_files:\n",
    "            X, _ = torch.load(shard_file)\n",
    "            self.total_samples += len(X)\n",
    "        \n",
    "        # Calculate the total number of batches\n",
    "        self.total_batches = self.total_samples // self.batch_size\n",
    "        if self.total_samples % self.batch_size != 0:\n",
    "            self.total_batches += 1\n",
    "\n",
    "    def load_shard(self, shard_idx):\n",
    "        self.X, self.y = torch.load(self.shard_files[shard_idx])\n",
    "        self.index = 0\n",
    "        self.length = len(self.X)\n",
    "\n",
    "    def next_batch(self):\n",
    "        if self.index + self.batch_size > self.length:\n",
    "            self.current_shard_idx += 1\n",
    "            if self.current_shard_idx >= len(self.shard_files):\n",
    "                self.current_shard_idx = 0  # Reset to the first shard if we reach the end\n",
    "            self.load_shard(self.current_shard_idx)\n",
    "            self.index = 0\n",
    "        \n",
    "        end_index = min(self.index + self.batch_size, self.length)\n",
    "        X_batch = self.X[self.index:end_index].to(self.device)\n",
    "        y_batch = self.y[self.index:end_index].to(self.device)\n",
    "        self.index = end_index\n",
    "        return X_batch, y_batch\n",
    "    \n",
    "    def reset(self):\n",
    "        self.current_shard_idx = 0\n",
    "        self.load_shard(self.current_shard_idx)\n",
    "        self.index = 0\n",
    "\n",
    "\n",
    "batch_size = 128\n",
    "train_loader = DataLoader('train_shards', batch_size, device)\n",
    "val_loader = DataLoader('val_shards', batch_size, device)\n",
    "print('Total batches in training set: ', train_loader.total_batches)\n",
    "print('Total batches in validation set: ', val_loader.total_batches)\n"
   ]
  },
  {
   "cell_type": "code",
   "execution_count": 36,
   "metadata": {},
   "outputs": [],
   "source": [
    "import torch.nn as nn\n",
    "import torch.optim as optim\n",
    "import torch.nn.functional as F\n",
    "\n",
    "class FFNN(nn.Module):\n",
    "    def __init__(self, input_dim, hidden_dim1, hidden_dim2, output_dim, dropout_prob=0.5):\n",
    "        super(FFNN, self).__init__()\n",
    "        self.fc1 = nn.Linear(input_dim, hidden_dim1)\n",
    "        self.fc2 = nn.Linear(hidden_dim1, hidden_dim2)\n",
    "        self.fc3 = nn.Linear(hidden_dim2, output_dim)\n",
    "        self.dropout = nn.Dropout(dropout_prob)\n",
    "    \n",
    "    def forward(self, x, targets=None):\n",
    "        x = F.relu(self.fc1(x))\n",
    "        x = self.dropout(x)\n",
    "        x = F.relu(self.fc2(x))\n",
    "        x = self.dropout(x)\n",
    "        x = self.fc3(x)\n",
    "        if targets is not None:\n",
    "            loss = F.cross_entropy(x, targets)\n",
    "            return x, loss \n",
    "        return x"
   ]
  },
  {
   "cell_type": "code",
   "execution_count": 37,
   "metadata": {},
   "outputs": [],
   "source": [
    "# We calculate accuracy, precision, recall and F1 score on the validation set\n",
    "from sklearn.metrics import accuracy_score, precision_score, recall_score, f1_score\n",
    "model.eval()\n",
    "# Evaluate the model on the validation set\n",
    "def evaluate_model(model, data_loader):\n",
    "    all_preds = []\n",
    "    all_labels = []\n",
    "\n",
    "    data_loader.reset()\n",
    "    for _ in range(data_loader.total_batches):\n",
    "        X_batch, y_batch = data_loader.next_batch()\n",
    "        with torch.no_grad():\n",
    "            output = model(X_batch)\n",
    "        preds = torch.argmax(output, dim=1)\n",
    "        all_preds.extend(preds.cpu().numpy())\n",
    "        all_labels.extend(y_batch.cpu().numpy())\n",
    "\n",
    "    accuracy = accuracy_score(all_labels, all_preds)\n",
    "    precision = precision_score(all_labels, all_preds)\n",
    "    recall = recall_score(all_labels, all_preds)\n",
    "    f1 = f1_score(all_labels, all_preds)\n",
    "\n",
    "    return accuracy, precision, recall, f1, all_labels, all_preds\n"
   ]
  },
  {
   "cell_type": "code",
   "execution_count": 38,
   "metadata": {},
   "outputs": [
    {
     "name": "stdout",
     "output_type": "stream",
     "text": [
      "Number of parameters: 1,313,282\n"
     ]
    }
   ],
   "source": [
    "model = FFNN(768, 1024, 512, 2, dropout_prob=0.2).to(device)\n",
    "# Calculate the number of parameters\n",
    "num_params = sum(p.numel() for p in model.parameters() if p.requires_grad)\n",
    "print(f'Number of parameters: {num_params:,}')\n",
    "lossi = []\n",
    "val_lossi = []\n",
    "accuracyi = []\n",
    "precisioni = []\n",
    "recalli = []\n",
    "f1i = []\n",
    "optimizer = optim.Adam(model.parameters(), lr=0.0001, weight_decay=0.0001)\n"
   ]
  },
  {
   "cell_type": "code",
   "execution_count": 99,
   "metadata": {},
   "outputs": [],
   "source": [
    "optimizer = optim.Adam(model.parameters(), lr=0.00001, weight_decay=0.00005)\n"
   ]
  },
  {
   "cell_type": "code",
   "execution_count": 117,
   "metadata": {},
   "outputs": [
    {
     "name": "stdout",
     "output_type": "stream",
     "text": [
      "Epoch: 0 | Loss average over last epoch:  0.06574621335242026 | Validation loss:  0.11319779022596776\n",
      "Epoch: 1 | Loss average over last epoch:  0.06509188416878783 | Validation loss:  0.11681976297404617\n",
      "Epoch: 2 | Loss average over last epoch:  0.06501956063017218 | Validation loss:  0.11625339917372912\n",
      "Epoch: 3 | Loss average over last epoch:  0.06539072239984467 | Validation loss:  0.11545422300696373\n",
      "Epoch: 4 | Loss average over last epoch:  0.06518785211762891 | Validation loss:  0.11852471972815692\n",
      "Epoch: 5 | Loss average over last epoch:  0.06546998727488229 | Validation loss:  0.11432655435055494\n",
      "Epoch: 6 | Loss average over last epoch:  0.06550962797980558 | Validation loss:  0.11500698979943991\n",
      "Epoch: 7 | Loss average over last epoch:  0.0652236549378697 | Validation loss:  0.11638118082191795\n",
      "Epoch: 8 | Loss average over last epoch:  0.06434641511097171 | Validation loss:  0.11553931690286845\n",
      "Epoch: 9 | Loss average over last epoch:  0.06505221790235227 | Validation loss:  0.10912132589146495\n",
      "Epoch: 10 | Loss average over last epoch:  0.06373756876355856 | Validation loss:  0.11263719655107707\n",
      "Epoch: 11 | Loss average over last epoch:  0.06350389480418901 | Validation loss:  0.11765415745321661\n",
      "Epoch: 12 | Loss average over last epoch:  0.0649576296433966 | Validation loss:  0.12230502534657717\n",
      "Epoch: 13 | Loss average over last epoch:  0.0642231571503888 | Validation loss:  0.11564558208920062\n",
      "Epoch: 14 | Loss average over last epoch:  0.06423599264228672 | Validation loss:  0.11012914567254484\n",
      "Epoch: 15 | Loss average over last epoch:  0.06461097747453476 | Validation loss:  0.11415831407066435\n",
      "Epoch: 16 | Loss average over last epoch:  0.06405241077762251 | Validation loss:  0.11702219757717103\n",
      "Epoch: 17 | Loss average over last epoch:  0.0638971069114481 | Validation loss:  0.11193434242159128\n",
      "Epoch: 18 | Loss average over last epoch:  0.06428904954475205 | Validation loss:  0.11317322705872357\n",
      "Epoch: 19 | Loss average over last epoch:  0.06362171366607688 | Validation loss:  0.11705921858083457\n",
      "Epoch: 20 | Loss average over last epoch:  0.06247913775008624 | Validation loss:  0.12184940441511571\n",
      "Epoch: 21 | Loss average over last epoch:  0.06379034404567685 | Validation loss:  0.12385212210938334\n",
      "Epoch: 22 | Loss average over last epoch:  0.06326942421482472 | Validation loss:  0.11705244530458003\n",
      "Epoch: 23 | Loss average over last epoch:  0.06307955867156448 | Validation loss:  0.11533070134464651\n",
      "Epoch: 24 | Loss average over last epoch:  0.06368368204612859 | Validation loss:  0.11216609494294971\n",
      "Epoch: 25 | Loss average over last epoch:  0.06339158965253162 | Validation loss:  0.1209948982577771\n",
      "Epoch: 26 | Loss average over last epoch:  0.06304082856166991 | Validation loss:  0.11181210202630609\n",
      "Epoch: 27 | Loss average over last epoch:  0.06418188162318447 | Validation loss:  0.11263033770956099\n",
      "Epoch: 28 | Loss average over last epoch:  0.06302165253849068 | Validation loss:  0.11320238071493804\n",
      "Epoch: 29 | Loss average over last epoch:  0.06238414797920147 | Validation loss:  0.12109932419843972\n",
      "Epoch: 30 | Loss average over last epoch:  0.062321505247605616 | Validation loss:  0.11911285214591771\n",
      "Epoch: 31 | Loss average over last epoch:  0.06309099723833324 | Validation loss:  0.12360927916597575\n",
      "Epoch: 32 | Loss average over last epoch:  0.0625957677469914 | Validation loss:  0.11785539763513952\n",
      "Epoch: 33 | Loss average over last epoch:  0.06273993569144573 | Validation loss:  0.11526974418666214\n",
      "Epoch: 34 | Loss average over last epoch:  0.06275263603313658 | Validation loss:  0.12135355768259615\n",
      "Epoch: 35 | Loss average over last epoch:  0.06236763279347873 | Validation loss:  0.11984896112699062\n",
      "Epoch: 36 | Loss average over last epoch:  0.06264723071980344 | Validation loss:  0.12102993135340512\n",
      "Epoch: 37 | Loss average over last epoch:  0.06231136284669337 | Validation loss:  0.11742507538292557\n",
      "Epoch: 38 | Loss average over last epoch:  0.06188117627627445 | Validation loss:  0.12041374278487638\n",
      "Epoch: 39 | Loss average over last epoch:  0.060735924937449885 | Validation loss:  0.11914317577611655\n",
      "Epoch: 40 | Loss average over last epoch:  0.06236423824790505 | Validation loss:  0.12266701739281416\n",
      "Epoch: 41 | Loss average over last epoch:  0.06199134876096182 | Validation loss:  0.1171941120410338\n",
      "Epoch: 42 | Loss average over last epoch:  0.061675563026432796 | Validation loss:  0.11453483544755727\n",
      "Epoch: 43 | Loss average over last epoch:  0.06185173731404166 | Validation loss:  0.11738192033953965\n",
      "Epoch: 44 | Loss average over last epoch:  0.061737138320659114 | Validation loss:  0.11302405304741114\n",
      "Epoch: 45 | Loss average over last epoch:  0.061637034184793216 | Validation loss:  0.11447651113849133\n",
      "Epoch: 46 | Loss average over last epoch:  0.06209087721518475 | Validation loss:  0.11399354331661016\n",
      "Epoch: 47 | Loss average over last epoch:  0.06108152180786501 | Validation loss:  0.1171519075287506\n",
      "Epoch: 48 | Loss average over last epoch:  0.06032612582168869 | Validation loss:  0.12127386906649917\n",
      "Epoch: 49 | Loss average over last epoch:  0.06171440361998135 | Validation loss:  0.12163310335017741\n",
      "Epoch: 50 | Loss average over last epoch:  0.06121994813866989 | Validation loss:  0.1194089453201741\n",
      "Epoch: 51 | Loss average over last epoch:  0.06105255267967629 | Validation loss:  0.11698209424503148\n",
      "Epoch: 52 | Loss average over last epoch:  0.06139338735651614 | Validation loss:  0.11797313136048615\n",
      "Epoch: 53 | Loss average over last epoch:  0.06102709203794049 | Validation loss:  0.12014579679816961\n",
      "Epoch: 54 | Loss average over last epoch:  0.061258896415997306 | Validation loss:  0.11522496317047626\n",
      "Epoch: 55 | Loss average over last epoch:  0.061180821956847056 | Validation loss:  0.11567265714984387\n",
      "Epoch: 56 | Loss average over last epoch:  0.060592589656578 | Validation loss:  0.11722789739724249\n",
      "Epoch: 57 | Loss average over last epoch:  0.05976497421836032 | Validation loss:  0.12420170614495873\n",
      "Epoch: 58 | Loss average over last epoch:  0.060387960983295144 | Validation loss:  0.12181180121842772\n",
      "Epoch: 59 | Loss average over last epoch:  0.060337851087285066 | Validation loss:  0.12008348188828677\n",
      "Epoch: 60 | Loss average over last epoch:  0.05981226273661439 | Validation loss:  0.11235070205293596\n",
      "Epoch: 61 | Loss average over last epoch:  0.06120405209224073 | Validation loss:  0.11573037842754275\n",
      "Epoch: 62 | Loss average over last epoch:  0.06024645778547866 | Validation loss:  0.11821597663220018\n",
      "Epoch: 63 | Loss average over last epoch:  0.060215976779185 | Validation loss:  0.11496579158119857\n",
      "Epoch: 64 | Loss average over last epoch:  0.060280639921782564 | Validation loss:  0.11372817703522742\n",
      "Epoch: 65 | Loss average over last epoch:  0.06012868835714914 | Validation loss:  0.11640766309574246\n",
      "Epoch: 66 | Loss average over last epoch:  0.05894631418083086 | Validation loss:  0.12265588983427733\n",
      "Epoch: 67 | Loss average over last epoch:  0.059677084538282535 | Validation loss:  0.12414906872436404\n",
      "Epoch: 68 | Loss average over last epoch:  0.060560375314464655 | Validation loss:  0.1220030781114474\n",
      "Epoch: 69 | Loss average over last epoch:  0.059469405846658926 | Validation loss:  0.11782040109392256\n",
      "Epoch: 70 | Loss average over last epoch:  0.05984957750439186 | Validation loss:  0.11333560466300696\n",
      "Epoch: 71 | Loss average over last epoch:  0.0595159796269797 | Validation loss:  0.12435128819197416\n",
      "Epoch: 72 | Loss average over last epoch:  0.058828567315334514 | Validation loss:  0.11759047256782651\n",
      "Epoch: 73 | Loss average over last epoch:  0.06017310578252866 | Validation loss:  0.11894661706173792\n",
      "Epoch: 74 | Loss average over last epoch:  0.05952691236271636 | Validation loss:  0.11923322710208595\n",
      "Epoch: 75 | Loss average over last epoch:  0.05897405640214046 | Validation loss:  0.1184487264836207\n",
      "Epoch: 76 | Loss average over last epoch:  0.05813108206603264 | Validation loss:  0.12064415769418702\n",
      "Epoch: 77 | Loss average over last epoch:  0.05981651851100289 | Validation loss:  0.12252007506322116\n",
      "Epoch: 78 | Loss average over last epoch:  0.05908854476541779 | Validation loss:  0.12079142802394927\n",
      "Epoch: 79 | Loss average over last epoch:  0.05977168569353012 | Validation loss:  0.11819864879362285\n",
      "Epoch: 80 | Loss average over last epoch:  0.05949673465303224 | Validation loss:  0.11967275640927255\n",
      "Epoch: 81 | Loss average over last epoch:  0.0593314935781898 | Validation loss:  0.11575624404940754\n",
      "Epoch: 82 | Loss average over last epoch:  0.058814274502581955 | Validation loss:  0.11860048014204949\n",
      "Epoch: 83 | Loss average over last epoch:  0.059385511086986725 | Validation loss:  0.11669145873747766\n",
      "Epoch: 84 | Loss average over last epoch:  0.05802651047878838 | Validation loss:  0.11912503559142351\n",
      "Epoch: 85 | Loss average over last epoch:  0.05799283126149258 | Validation loss:  0.1250053314724937\n",
      "Epoch: 86 | Loss average over last epoch:  0.05830792402781913 | Validation loss:  0.12273778219241649\n",
      "Epoch: 87 | Loss average over last epoch:  0.05860781869780689 | Validation loss:  0.12416777841281146\n",
      "Epoch: 88 | Loss average over last epoch:  0.05837811354761351 | Validation loss:  0.11952328193001449\n",
      "Epoch: 89 | Loss average over last epoch:  0.05853835984349946 | Validation loss:  0.12391159543767571\n",
      "Epoch: 90 | Loss average over last epoch:  0.05818488154918763 | Validation loss:  0.1217947406694293\n",
      "Epoch: 91 | Loss average over last epoch:  0.058228993951957374 | Validation loss:  0.11926097527612001\n"
     ]
    },
    {
     "ename": "KeyboardInterrupt",
     "evalue": "",
     "output_type": "error",
     "traceback": [
      "\u001b[0;31m---------------------------------------------------------------------------\u001b[0m",
      "\u001b[0;31mKeyboardInterrupt\u001b[0m                         Traceback (most recent call last)",
      "Cell \u001b[0;32mIn[117], line 13\u001b[0m\n\u001b[1;32m     11\u001b[0m lossi\u001b[38;5;241m.\u001b[39mappend(loss\u001b[38;5;241m.\u001b[39mitem())\n\u001b[1;32m     12\u001b[0m loss\u001b[38;5;241m.\u001b[39mbackward()\n\u001b[0;32m---> 13\u001b[0m \u001b[43moptimizer\u001b[49m\u001b[38;5;241;43m.\u001b[39;49m\u001b[43mstep\u001b[49m\u001b[43m(\u001b[49m\u001b[43m)\u001b[49m\n\u001b[1;32m     15\u001b[0m \u001b[38;5;28;01mif\u001b[39;00m i \u001b[38;5;241m%\u001b[39m validate_loss_every \u001b[38;5;241m==\u001b[39m \u001b[38;5;241m0\u001b[39m:\n\u001b[1;32m     16\u001b[0m     model\u001b[38;5;241m.\u001b[39meval()\n",
      "File \u001b[0;32m~/miniconda3/envs/general_ml/lib/python3.11/site-packages/torch/optim/optimizer.py:391\u001b[0m, in \u001b[0;36mOptimizer.profile_hook_step.<locals>.wrapper\u001b[0;34m(*args, **kwargs)\u001b[0m\n\u001b[1;32m    386\u001b[0m         \u001b[38;5;28;01melse\u001b[39;00m:\n\u001b[1;32m    387\u001b[0m             \u001b[38;5;28;01mraise\u001b[39;00m \u001b[38;5;167;01mRuntimeError\u001b[39;00m(\n\u001b[1;32m    388\u001b[0m                 \u001b[38;5;124mf\u001b[39m\u001b[38;5;124m\"\u001b[39m\u001b[38;5;132;01m{\u001b[39;00mfunc\u001b[38;5;132;01m}\u001b[39;00m\u001b[38;5;124m must return None or a tuple of (new_args, new_kwargs), but got \u001b[39m\u001b[38;5;132;01m{\u001b[39;00mresult\u001b[38;5;132;01m}\u001b[39;00m\u001b[38;5;124m.\u001b[39m\u001b[38;5;124m\"\u001b[39m\n\u001b[1;32m    389\u001b[0m             )\n\u001b[0;32m--> 391\u001b[0m out \u001b[38;5;241m=\u001b[39m \u001b[43mfunc\u001b[49m\u001b[43m(\u001b[49m\u001b[38;5;241;43m*\u001b[39;49m\u001b[43margs\u001b[49m\u001b[43m,\u001b[49m\u001b[43m \u001b[49m\u001b[38;5;241;43m*\u001b[39;49m\u001b[38;5;241;43m*\u001b[39;49m\u001b[43mkwargs\u001b[49m\u001b[43m)\u001b[49m\n\u001b[1;32m    392\u001b[0m \u001b[38;5;28mself\u001b[39m\u001b[38;5;241m.\u001b[39m_optimizer_step_code()\n\u001b[1;32m    394\u001b[0m \u001b[38;5;66;03m# call optimizer step post hooks\u001b[39;00m\n",
      "File \u001b[0;32m~/miniconda3/envs/general_ml/lib/python3.11/site-packages/torch/optim/optimizer.py:76\u001b[0m, in \u001b[0;36m_use_grad_for_differentiable.<locals>._use_grad\u001b[0;34m(self, *args, **kwargs)\u001b[0m\n\u001b[1;32m     74\u001b[0m     torch\u001b[38;5;241m.\u001b[39mset_grad_enabled(\u001b[38;5;28mself\u001b[39m\u001b[38;5;241m.\u001b[39mdefaults[\u001b[38;5;124m'\u001b[39m\u001b[38;5;124mdifferentiable\u001b[39m\u001b[38;5;124m'\u001b[39m])\n\u001b[1;32m     75\u001b[0m     torch\u001b[38;5;241m.\u001b[39m_dynamo\u001b[38;5;241m.\u001b[39mgraph_break()\n\u001b[0;32m---> 76\u001b[0m     ret \u001b[38;5;241m=\u001b[39m \u001b[43mfunc\u001b[49m\u001b[43m(\u001b[49m\u001b[38;5;28;43mself\u001b[39;49m\u001b[43m,\u001b[49m\u001b[43m \u001b[49m\u001b[38;5;241;43m*\u001b[39;49m\u001b[43margs\u001b[49m\u001b[43m,\u001b[49m\u001b[43m \u001b[49m\u001b[38;5;241;43m*\u001b[39;49m\u001b[38;5;241;43m*\u001b[39;49m\u001b[43mkwargs\u001b[49m\u001b[43m)\u001b[49m\n\u001b[1;32m     77\u001b[0m \u001b[38;5;28;01mfinally\u001b[39;00m:\n\u001b[1;32m     78\u001b[0m     torch\u001b[38;5;241m.\u001b[39m_dynamo\u001b[38;5;241m.\u001b[39mgraph_break()\n",
      "File \u001b[0;32m~/miniconda3/envs/general_ml/lib/python3.11/site-packages/torch/optim/adam.py:168\u001b[0m, in \u001b[0;36mAdam.step\u001b[0;34m(self, closure)\u001b[0m\n\u001b[1;32m    157\u001b[0m     beta1, beta2 \u001b[38;5;241m=\u001b[39m group[\u001b[38;5;124m'\u001b[39m\u001b[38;5;124mbetas\u001b[39m\u001b[38;5;124m'\u001b[39m]\n\u001b[1;32m    159\u001b[0m     has_complex \u001b[38;5;241m=\u001b[39m \u001b[38;5;28mself\u001b[39m\u001b[38;5;241m.\u001b[39m_init_group(\n\u001b[1;32m    160\u001b[0m         group,\n\u001b[1;32m    161\u001b[0m         params_with_grad,\n\u001b[0;32m   (...)\u001b[0m\n\u001b[1;32m    165\u001b[0m         max_exp_avg_sqs,\n\u001b[1;32m    166\u001b[0m         state_steps)\n\u001b[0;32m--> 168\u001b[0m     \u001b[43madam\u001b[49m\u001b[43m(\u001b[49m\n\u001b[1;32m    169\u001b[0m \u001b[43m        \u001b[49m\u001b[43mparams_with_grad\u001b[49m\u001b[43m,\u001b[49m\n\u001b[1;32m    170\u001b[0m \u001b[43m        \u001b[49m\u001b[43mgrads\u001b[49m\u001b[43m,\u001b[49m\n\u001b[1;32m    171\u001b[0m \u001b[43m        \u001b[49m\u001b[43mexp_avgs\u001b[49m\u001b[43m,\u001b[49m\n\u001b[1;32m    172\u001b[0m \u001b[43m        \u001b[49m\u001b[43mexp_avg_sqs\u001b[49m\u001b[43m,\u001b[49m\n\u001b[1;32m    173\u001b[0m \u001b[43m        \u001b[49m\u001b[43mmax_exp_avg_sqs\u001b[49m\u001b[43m,\u001b[49m\n\u001b[1;32m    174\u001b[0m \u001b[43m        \u001b[49m\u001b[43mstate_steps\u001b[49m\u001b[43m,\u001b[49m\n\u001b[1;32m    175\u001b[0m \u001b[43m        \u001b[49m\u001b[43mamsgrad\u001b[49m\u001b[38;5;241;43m=\u001b[39;49m\u001b[43mgroup\u001b[49m\u001b[43m[\u001b[49m\u001b[38;5;124;43m'\u001b[39;49m\u001b[38;5;124;43mamsgrad\u001b[39;49m\u001b[38;5;124;43m'\u001b[39;49m\u001b[43m]\u001b[49m\u001b[43m,\u001b[49m\n\u001b[1;32m    176\u001b[0m \u001b[43m        \u001b[49m\u001b[43mhas_complex\u001b[49m\u001b[38;5;241;43m=\u001b[39;49m\u001b[43mhas_complex\u001b[49m\u001b[43m,\u001b[49m\n\u001b[1;32m    177\u001b[0m \u001b[43m        \u001b[49m\u001b[43mbeta1\u001b[49m\u001b[38;5;241;43m=\u001b[39;49m\u001b[43mbeta1\u001b[49m\u001b[43m,\u001b[49m\n\u001b[1;32m    178\u001b[0m \u001b[43m        \u001b[49m\u001b[43mbeta2\u001b[49m\u001b[38;5;241;43m=\u001b[39;49m\u001b[43mbeta2\u001b[49m\u001b[43m,\u001b[49m\n\u001b[1;32m    179\u001b[0m \u001b[43m        \u001b[49m\u001b[43mlr\u001b[49m\u001b[38;5;241;43m=\u001b[39;49m\u001b[43mgroup\u001b[49m\u001b[43m[\u001b[49m\u001b[38;5;124;43m'\u001b[39;49m\u001b[38;5;124;43mlr\u001b[39;49m\u001b[38;5;124;43m'\u001b[39;49m\u001b[43m]\u001b[49m\u001b[43m,\u001b[49m\n\u001b[1;32m    180\u001b[0m \u001b[43m        \u001b[49m\u001b[43mweight_decay\u001b[49m\u001b[38;5;241;43m=\u001b[39;49m\u001b[43mgroup\u001b[49m\u001b[43m[\u001b[49m\u001b[38;5;124;43m'\u001b[39;49m\u001b[38;5;124;43mweight_decay\u001b[39;49m\u001b[38;5;124;43m'\u001b[39;49m\u001b[43m]\u001b[49m\u001b[43m,\u001b[49m\n\u001b[1;32m    181\u001b[0m \u001b[43m        \u001b[49m\u001b[43meps\u001b[49m\u001b[38;5;241;43m=\u001b[39;49m\u001b[43mgroup\u001b[49m\u001b[43m[\u001b[49m\u001b[38;5;124;43m'\u001b[39;49m\u001b[38;5;124;43meps\u001b[39;49m\u001b[38;5;124;43m'\u001b[39;49m\u001b[43m]\u001b[49m\u001b[43m,\u001b[49m\n\u001b[1;32m    182\u001b[0m \u001b[43m        \u001b[49m\u001b[43mmaximize\u001b[49m\u001b[38;5;241;43m=\u001b[39;49m\u001b[43mgroup\u001b[49m\u001b[43m[\u001b[49m\u001b[38;5;124;43m'\u001b[39;49m\u001b[38;5;124;43mmaximize\u001b[39;49m\u001b[38;5;124;43m'\u001b[39;49m\u001b[43m]\u001b[49m\u001b[43m,\u001b[49m\n\u001b[1;32m    183\u001b[0m \u001b[43m        \u001b[49m\u001b[43mforeach\u001b[49m\u001b[38;5;241;43m=\u001b[39;49m\u001b[43mgroup\u001b[49m\u001b[43m[\u001b[49m\u001b[38;5;124;43m'\u001b[39;49m\u001b[38;5;124;43mforeach\u001b[39;49m\u001b[38;5;124;43m'\u001b[39;49m\u001b[43m]\u001b[49m\u001b[43m,\u001b[49m\n\u001b[1;32m    184\u001b[0m \u001b[43m        \u001b[49m\u001b[43mcapturable\u001b[49m\u001b[38;5;241;43m=\u001b[39;49m\u001b[43mgroup\u001b[49m\u001b[43m[\u001b[49m\u001b[38;5;124;43m'\u001b[39;49m\u001b[38;5;124;43mcapturable\u001b[39;49m\u001b[38;5;124;43m'\u001b[39;49m\u001b[43m]\u001b[49m\u001b[43m,\u001b[49m\n\u001b[1;32m    185\u001b[0m \u001b[43m        \u001b[49m\u001b[43mdifferentiable\u001b[49m\u001b[38;5;241;43m=\u001b[39;49m\u001b[43mgroup\u001b[49m\u001b[43m[\u001b[49m\u001b[38;5;124;43m'\u001b[39;49m\u001b[38;5;124;43mdifferentiable\u001b[39;49m\u001b[38;5;124;43m'\u001b[39;49m\u001b[43m]\u001b[49m\u001b[43m,\u001b[49m\n\u001b[1;32m    186\u001b[0m \u001b[43m        \u001b[49m\u001b[43mfused\u001b[49m\u001b[38;5;241;43m=\u001b[39;49m\u001b[43mgroup\u001b[49m\u001b[43m[\u001b[49m\u001b[38;5;124;43m'\u001b[39;49m\u001b[38;5;124;43mfused\u001b[39;49m\u001b[38;5;124;43m'\u001b[39;49m\u001b[43m]\u001b[49m\u001b[43m,\u001b[49m\n\u001b[1;32m    187\u001b[0m \u001b[43m        \u001b[49m\u001b[43mgrad_scale\u001b[49m\u001b[38;5;241;43m=\u001b[39;49m\u001b[38;5;28;43mgetattr\u001b[39;49m\u001b[43m(\u001b[49m\u001b[38;5;28;43mself\u001b[39;49m\u001b[43m,\u001b[49m\u001b[43m \u001b[49m\u001b[38;5;124;43m\"\u001b[39;49m\u001b[38;5;124;43mgrad_scale\u001b[39;49m\u001b[38;5;124;43m\"\u001b[39;49m\u001b[43m,\u001b[49m\u001b[43m \u001b[49m\u001b[38;5;28;43;01mNone\u001b[39;49;00m\u001b[43m)\u001b[49m\u001b[43m,\u001b[49m\n\u001b[1;32m    188\u001b[0m \u001b[43m        \u001b[49m\u001b[43mfound_inf\u001b[49m\u001b[38;5;241;43m=\u001b[39;49m\u001b[38;5;28;43mgetattr\u001b[39;49m\u001b[43m(\u001b[49m\u001b[38;5;28;43mself\u001b[39;49m\u001b[43m,\u001b[49m\u001b[43m \u001b[49m\u001b[38;5;124;43m\"\u001b[39;49m\u001b[38;5;124;43mfound_inf\u001b[39;49m\u001b[38;5;124;43m\"\u001b[39;49m\u001b[43m,\u001b[49m\u001b[43m \u001b[49m\u001b[38;5;28;43;01mNone\u001b[39;49;00m\u001b[43m)\u001b[49m\u001b[43m,\u001b[49m\n\u001b[1;32m    189\u001b[0m \u001b[43m    \u001b[49m\u001b[43m)\u001b[49m\n\u001b[1;32m    191\u001b[0m \u001b[38;5;28;01mreturn\u001b[39;00m loss\n",
      "File \u001b[0;32m~/miniconda3/envs/general_ml/lib/python3.11/site-packages/torch/optim/adam.py:318\u001b[0m, in \u001b[0;36madam\u001b[0;34m(params, grads, exp_avgs, exp_avg_sqs, max_exp_avg_sqs, state_steps, foreach, capturable, differentiable, fused, grad_scale, found_inf, has_complex, amsgrad, beta1, beta2, lr, weight_decay, eps, maximize)\u001b[0m\n\u001b[1;32m    315\u001b[0m \u001b[38;5;28;01melse\u001b[39;00m:\n\u001b[1;32m    316\u001b[0m     func \u001b[38;5;241m=\u001b[39m _single_tensor_adam\n\u001b[0;32m--> 318\u001b[0m \u001b[43mfunc\u001b[49m\u001b[43m(\u001b[49m\u001b[43mparams\u001b[49m\u001b[43m,\u001b[49m\n\u001b[1;32m    319\u001b[0m \u001b[43m     \u001b[49m\u001b[43mgrads\u001b[49m\u001b[43m,\u001b[49m\n\u001b[1;32m    320\u001b[0m \u001b[43m     \u001b[49m\u001b[43mexp_avgs\u001b[49m\u001b[43m,\u001b[49m\n\u001b[1;32m    321\u001b[0m \u001b[43m     \u001b[49m\u001b[43mexp_avg_sqs\u001b[49m\u001b[43m,\u001b[49m\n\u001b[1;32m    322\u001b[0m \u001b[43m     \u001b[49m\u001b[43mmax_exp_avg_sqs\u001b[49m\u001b[43m,\u001b[49m\n\u001b[1;32m    323\u001b[0m \u001b[43m     \u001b[49m\u001b[43mstate_steps\u001b[49m\u001b[43m,\u001b[49m\n\u001b[1;32m    324\u001b[0m \u001b[43m     \u001b[49m\u001b[43mamsgrad\u001b[49m\u001b[38;5;241;43m=\u001b[39;49m\u001b[43mamsgrad\u001b[49m\u001b[43m,\u001b[49m\n\u001b[1;32m    325\u001b[0m \u001b[43m     \u001b[49m\u001b[43mhas_complex\u001b[49m\u001b[38;5;241;43m=\u001b[39;49m\u001b[43mhas_complex\u001b[49m\u001b[43m,\u001b[49m\n\u001b[1;32m    326\u001b[0m \u001b[43m     \u001b[49m\u001b[43mbeta1\u001b[49m\u001b[38;5;241;43m=\u001b[39;49m\u001b[43mbeta1\u001b[49m\u001b[43m,\u001b[49m\n\u001b[1;32m    327\u001b[0m \u001b[43m     \u001b[49m\u001b[43mbeta2\u001b[49m\u001b[38;5;241;43m=\u001b[39;49m\u001b[43mbeta2\u001b[49m\u001b[43m,\u001b[49m\n\u001b[1;32m    328\u001b[0m \u001b[43m     \u001b[49m\u001b[43mlr\u001b[49m\u001b[38;5;241;43m=\u001b[39;49m\u001b[43mlr\u001b[49m\u001b[43m,\u001b[49m\n\u001b[1;32m    329\u001b[0m \u001b[43m     \u001b[49m\u001b[43mweight_decay\u001b[49m\u001b[38;5;241;43m=\u001b[39;49m\u001b[43mweight_decay\u001b[49m\u001b[43m,\u001b[49m\n\u001b[1;32m    330\u001b[0m \u001b[43m     \u001b[49m\u001b[43meps\u001b[49m\u001b[38;5;241;43m=\u001b[39;49m\u001b[43meps\u001b[49m\u001b[43m,\u001b[49m\n\u001b[1;32m    331\u001b[0m \u001b[43m     \u001b[49m\u001b[43mmaximize\u001b[49m\u001b[38;5;241;43m=\u001b[39;49m\u001b[43mmaximize\u001b[49m\u001b[43m,\u001b[49m\n\u001b[1;32m    332\u001b[0m \u001b[43m     \u001b[49m\u001b[43mcapturable\u001b[49m\u001b[38;5;241;43m=\u001b[39;49m\u001b[43mcapturable\u001b[49m\u001b[43m,\u001b[49m\n\u001b[1;32m    333\u001b[0m \u001b[43m     \u001b[49m\u001b[43mdifferentiable\u001b[49m\u001b[38;5;241;43m=\u001b[39;49m\u001b[43mdifferentiable\u001b[49m\u001b[43m,\u001b[49m\n\u001b[1;32m    334\u001b[0m \u001b[43m     \u001b[49m\u001b[43mgrad_scale\u001b[49m\u001b[38;5;241;43m=\u001b[39;49m\u001b[43mgrad_scale\u001b[49m\u001b[43m,\u001b[49m\n\u001b[1;32m    335\u001b[0m \u001b[43m     \u001b[49m\u001b[43mfound_inf\u001b[49m\u001b[38;5;241;43m=\u001b[39;49m\u001b[43mfound_inf\u001b[49m\u001b[43m)\u001b[49m\n",
      "File \u001b[0;32m~/miniconda3/envs/general_ml/lib/python3.11/site-packages/torch/optim/adam.py:394\u001b[0m, in \u001b[0;36m_single_tensor_adam\u001b[0;34m(params, grads, exp_avgs, exp_avg_sqs, max_exp_avg_sqs, state_steps, grad_scale, found_inf, amsgrad, has_complex, beta1, beta2, lr, weight_decay, eps, maximize, capturable, differentiable)\u001b[0m\n\u001b[1;32m    392\u001b[0m \u001b[38;5;66;03m# Decay the first and second moment running average coefficient\u001b[39;00m\n\u001b[1;32m    393\u001b[0m exp_avg\u001b[38;5;241m.\u001b[39mlerp_(grad, \u001b[38;5;241m1\u001b[39m \u001b[38;5;241m-\u001b[39m beta1)\n\u001b[0;32m--> 394\u001b[0m \u001b[43mexp_avg_sq\u001b[49m\u001b[38;5;241;43m.\u001b[39;49m\u001b[43mmul_\u001b[49m\u001b[43m(\u001b[49m\u001b[43mbeta2\u001b[49m\u001b[43m)\u001b[49m\u001b[38;5;241m.\u001b[39maddcmul_(grad, grad\u001b[38;5;241m.\u001b[39mconj(), value\u001b[38;5;241m=\u001b[39m\u001b[38;5;241m1\u001b[39m \u001b[38;5;241m-\u001b[39m beta2)\n\u001b[1;32m    396\u001b[0m \u001b[38;5;28;01mif\u001b[39;00m capturable \u001b[38;5;129;01mor\u001b[39;00m differentiable:\n\u001b[1;32m    397\u001b[0m     step \u001b[38;5;241m=\u001b[39m step_t\n",
      "\u001b[0;31mKeyboardInterrupt\u001b[0m: "
     ]
    }
   ],
   "source": [
    "epochs = 300\n",
    "validate_loss_every = 1000\n",
    "validate_metrics_every = 1000\n",
    "\n",
    "model.train()\n",
    "for epoch in range(epochs):\n",
    "    for i in range(train_loader.total_batches):\n",
    "        X_batch, y_batch = train_loader.next_batch()\n",
    "        optimizer.zero_grad()\n",
    "        output, loss = model(X_batch, y_batch)\n",
    "        lossi.append(loss.item())\n",
    "        loss.backward()\n",
    "        optimizer.step()\n",
    "\n",
    "        if i % validate_loss_every == 0:\n",
    "            model.eval()\n",
    "            val_loss = 0\n",
    "            val_loader.reset()\n",
    "            for _ in range(val_loader.total_batches):\n",
    "                X_batch, y_batch = val_loader.next_batch()\n",
    "                output, loss = model(X_batch, y_batch)\n",
    "                val_loss += loss.item()\n",
    "            val_loss /= val_loader.total_batches\n",
    "            val_lossi.append(val_loss)\n",
    "            val_loader.reset()\n",
    "            model.train()\n",
    "\n",
    "        if i % validate_metrics_every == 0:\n",
    "            model.eval()\n",
    "            accuracy, precision, recall, f1, _, _ = evaluate_model(model, val_loader)\n",
    "            accuracyi.append(accuracy)\n",
    "            precisioni.append(precision)\n",
    "            recalli.append(recall)\n",
    "            f1i.append(f1)\n",
    "            model.train()\n",
    "\n",
    "    print('Epoch:', epoch, '| Loss average over last epoch: ', np.mean(lossi[-train_loader.total_batches:]), '| Validation loss: ', val_loss)"
   ]
  },
  {
   "cell_type": "code",
   "execution_count": 118,
   "metadata": {},
   "outputs": [
    {
     "data": {
      "image/png": "[encoded data removed]",
      "text/plain": [
       "<Figure size 640x480 with 1 Axes>"
      ]
     },
     "metadata": {},
     "output_type": "display_data"
    },
    {
     "data": {
      "image/png": "[encoded data removed]",
      "text/plain": [
       "<Figure size 640x480 with 1 Axes>"
      ]
     },
     "metadata": {},
     "output_type": "display_data"
    }
   ],
   "source": [
    "import numpy as np\n",
    "import matplotlib.pyplot as plt\n",
    "\n",
    "# Assuming lossi and val_lossi are already defined arrays\n",
    "# Stretch val_lossi to match the length of lossi\n",
    "val_lossi_stretched = np.interp(\n",
    "    np.linspace(0, len(val_lossi) - 1, len(lossi)),\n",
    "    np.arange(len(val_lossi)),\n",
    "    val_lossi\n",
    ")\n",
    "\n",
    "# Calculate the average loss over 100 data points\n",
    "window_size = 500\n",
    "lossi_avg = np.convolve(lossi, np.ones(window_size)/window_size, mode='valid')\n",
    "\n",
    "# Plot the original loss, stretched validation loss, and averaged loss\n",
    "plt.plot(lossi, label='Loss')\n",
    "plt.plot(val_lossi_stretched, label='Stretched Validation Loss')\n",
    "plt.plot(np.arange(len(lossi_avg)) + window_size//2, lossi_avg, label='Averaged Loss (100 points)', linestyle='--')\n",
    "plt.legend()\n",
    "plt.show()\n",
    "\n",
    "\n",
    "\n",
    "plt.plot(accuracyi, label = 'Accuracy')\n",
    "plt.plot(precisioni, label = 'Precision')\n",
    "plt.plot(recalli, label = 'Recall')\n",
    "plt.plot(f1i, label = 'F1')\n",
    "plt.legend()\n",
    "plt.show()"
   ]
  },
  {
   "cell_type": "code",
   "execution_count": 119,
   "metadata": {},
   "outputs": [
    {
     "name": "stdout",
     "output_type": "stream",
     "text": [
      "Validation Accuracy: 0.9541\n",
      "Validation Precision: 0.9703\n",
      "Validation Recall: 0.9664\n",
      "Validation F1 Score: 0.9683\n",
      "Train Accuracy: 0.9760\n",
      "Train Precision: 0.9820\n",
      "Train Recall: 0.9874\n",
      "Train F1 Score: 0.9847\n"
     ]
    }
   ],
   "source": [
    "\n",
    "# Calculate and print metrics\n",
    "val_loader.reset()\n",
    "accuracy, precision, recall, f1, all_labels, all_preds = evaluate_model(model, val_loader)\n",
    "print(f\"Validation Accuracy: {accuracy:.4f}\")\n",
    "print(f\"Validation Precision: {precision:.4f}\")\n",
    "print(f\"Validation Recall: {recall:.4f}\")\n",
    "print(f\"Validation F1 Score: {f1:.4f}\")\n",
    "\n",
    "# We do the same over the entire train dataset\n",
    "train_loader.reset()\n",
    "train_accuracy, train_precision, train_recall, train_f1, _, _ = evaluate_model(model, train_loader)\n",
    "print(f\"Train Accuracy: {train_accuracy:.4f}\")\n",
    "print(f\"Train Precision: {train_precision:.4f}\")\n",
    "print(f\"Train Recall: {train_recall:.4f}\")\n",
    "print(f\"Train F1 Score: {train_f1:.4f}\")\n"
   ]
  },
  {
   "cell_type": "code",
   "execution_count": 120,
   "metadata": {},
   "outputs": [
    {
     "data": {
      "image/png": "[encoded data removed]",
      "text/plain": [
       "<Figure size 640x480 with 2 Axes>"
      ]
     },
     "metadata": {},
     "output_type": "display_data"
    }
   ],
   "source": [
    "from sklearn.metrics import confusion_matrix\n",
    "import seaborn as sns\n",
    "import matplotlib.pyplot as plt\n",
    "\n",
    "def plot_confusion_matrix(y_true, y_pred, class_names, normalize=False):\n",
    "    cm = confusion_matrix(y_true, y_pred)\n",
    "    \n",
    "    if normalize:\n",
    "        cm = cm.astype('float') / cm.sum(axis=1)[:, np.newaxis]\n",
    "    \n",
    "    sns.heatmap(cm, annot=True, fmt='.2f' if normalize else 'd', cmap='Blues', xticklabels=class_names, yticklabels=class_names)\n",
    "    plt.xlabel('Predicted')\n",
    "    plt.ylabel('True')\n",
    "    plt.show()\n",
    "\n",
    "plot_confusion_matrix(all_labels, all_preds, class_names=['Negative', 'Positive'], normalize=True)  # Replace with actual class names"
   ]
  },
  {
   "cell_type": "code",
   "execution_count": 115,
   "metadata": {},
   "outputs": [
    {
     "name": "stdout",
     "output_type": "stream",
     "text": [
      "Text: Great Alternative Sweetener: My review covers the Stevia In The Raw product in packet form. I have not tried the bulk product.<br /><br />This is a great alternative sweetener. It leaves no after taste that I can detect. I use it in tea, on cereal and in three different kinds of oatmeal. Everything that I have used it in or on has tasted the same as it did when sugar was used.<br /><br />I cam accross a couple of articles on Stevia while browsing on the Internet. After reading those two articles I did a little more research and decided to try Stevia. I found this product at our local Kroger store where it happened to be on sale. Kroger carries two ro three other Stevia based products however after comparing the list of ingredients for each I decided to buy the Stevia In The Raw. The list of ingredients for the packet form of this product is dextrose and Stevia Extract (Rebiana).<br /><br />OK, I tired it and it tastes great in everyhting I have used it with but I was curious. The Stevia extract is supposed to be 200 to 400 times more intensely sweet than sugar. If that is the case why was dextrose used and why was it the more prevalent ingredient? I called the company on their 800 and asked this same question. The answer is (according to them) that dextrose is a carbohydrate derived from crushed corn. It is a filler in their product. The Rebiana is so intensely sweet that it was impractical to package it in its pure form in individual packets. The volume would be so small that consumers would wonder if anything was really there. To me this sounds plausible. I am not a dietician, a doctor nor do I work for the company. I simply use their product and like it.<br /><br />I hope this info is helpful. Everyone have a gret day out there.\n",
      "Real class: 1\n",
      "Predicted class: 0\n",
      "Confidence score: 0.8166549801826477\n",
      "---\n",
      "Text: Perfect for our maltipoo: These stars are small, so you can give 10-15 of those in one training session.  I tried to train our dog with \"Ceaser dog treats\",  it just made our puppy hyper.  If you compare the ingredients, you will know why.  Little stars has just basic food ingredients without any preservatives and food coloring.  Sweet potato flavor also did not make my hand smell like dog food.\n",
      "Real class: 1\n",
      "Predicted class: 0\n",
      "Confidence score: 0.5998787879943848\n",
      "---\n",
      "Text: great taste: This apple butter has a great taste but the price is so I would not purchase again. I know it can not cost this much to produce such a small jar\n",
      "Real class: 1\n",
      "Predicted class: 0\n",
      "Confidence score: 0.9535658955574036\n",
      "---\n",
      "Text: Very good, very sweet, not too hot: For fans of curry ketchup, this one's an excellent choice. It's sweet and despite of the name it's not too hot. Wish the bottle was larger though. Once you start using it you want to put that stuff on everything...<br /><br />Tip: put this on chopped up bratwurst, sprinkle some powdered curry on top of it. Close to the real thing (\"curry wurst\").\n",
      "Real class: 1\n",
      "Predicted class: 0\n",
      "Confidence score: 0.9343833923339844\n",
      "---\n",
      "Text: Bubble gum: It is bubble gum. The flavour is supposed to last for much longer, but to my taste, it lasted no longer than any other gum! End of story.<br /><br />Mrbluenun\n",
      "Real class: 0\n",
      "Predicted class: 1\n",
      "Confidence score: 0.6915302872657776\n",
      "---\n"
     ]
    }
   ],
   "source": [
    "import random\n",
    "\n",
    "max_errors_to_find = 100  # Variable to specify how many errors to find\n",
    "\n",
    "# Load the data from val_shards/val_shard_0.pt\n",
    "# Need to recover the text from the original dataset, since X has already gone through BERT (so we need to also memorize the indices, remembering that the val data is taken from the last 1000 reviews)\n",
    "X, y = torch.load('val_shards/val_shard_0.pt')\n",
    "X, y = X.to(device), y.to(device)\n",
    "\n",
    "errors = []\n",
    "error_indices = []\n",
    "\n",
    "model.eval()\n",
    "with torch.no_grad():\n",
    "    output = model(X)\n",
    "    preds = torch.argmax(output, dim=1)\n",
    "    confidences = torch.max(torch.softmax(output, dim=1), dim=1)[0]\n",
    "\n",
    "for i in range(len(X)):\n",
    "    if preds[i] != y[i]:\n",
    "        errors.append((X[i], y[i], preds[i], confidences[i], i))\n",
    "    if len(errors) >= max_errors_to_find:\n",
    "        break\n",
    "\n",
    "# Shuffle and select 5 random errors\n",
    "random_errors = random.sample(errors, min(5, len(errors)))\n",
    "\n",
    "# Assuming 'data' is the original DataFrame and contains at least 1000 rows\n",
    "for error in random_errors:\n",
    "    x, real_class, pred_class, confidence, idx = error\n",
    "    decoded_text = tokenizer.decode(x, skip_special_tokens=True)\n",
    "    # Access the last 1000 rows and use index 'I' from the error list\n",
    "    data_index = len(data) - 1000 + idx\n",
    "    print('Text:', data.iloc[data_index].Text)\n",
    "    print('Real class:', real_class.item())\n",
    "    print('Predicted class:', pred_class.item())\n",
    "    print('Confidence score:', confidence.item())\n",
    "    print('---')"
   ]
  },
  {
   "cell_type": "code",
   "execution_count": 122,
   "metadata": {},
   "outputs": [],
   "source": [
    "# Save model\n",
    "torch.save(model.state_dict(), 'model.pth')\n",
    "\n"
   ]
  }
 ],
 "metadata": {
  "kernelspec": {
   "display_name": "general_ml",
   "language": "python",
   "name": "python3"
  },
  "language_info": {
   "codemirror_mode": {
    "name": "ipython",
    "version": 3
   },
   "file_extension": ".py",
   "mimetype": "text/x-python",
   "name": "python",
   "nbconvert_exporter": "python",
   "pygments_lexer": "ipython3",
   "version": "3.11.5"
  }
 },
 "nbformat": 4,
 "nbformat_minor": 2
}
